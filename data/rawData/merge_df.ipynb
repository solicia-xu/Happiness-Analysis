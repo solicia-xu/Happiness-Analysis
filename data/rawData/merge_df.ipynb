{
 "cells": [
  {
   "cell_type": "markdown",
   "metadata": {},
   "source": [
    "#### This is the only file that you need to run to create the cleanest starting point (almost_complete.csv) to run our analysis."
   ]
  },
  {
   "cell_type": "code",
   "execution_count": 1,
   "metadata": {},
   "outputs": [],
   "source": [
    "import os\n",
    "import pandas as pd\n",
    "import sys\n",
    "sys.path.insert(1, '../../notebooks/libs')\n",
    "from api_call import worldbank,consumer_electronics,worldpop"
   ]
  },
  {
   "cell_type": "code",
   "execution_count": 2,
   "metadata": {},
   "outputs": [],
   "source": [
    "#read both csvs\n",
    "#if api fails, rely on backup CSV\n",
    "try:\n",
    "    worldbank_df = worldbank()\n",
    "except:\n",
    "    print(\"Oops!\",sys.exc_info()[0],\"occured, using worldbank.csv instead\")\n",
    "    worldbank_df = pd.read_csv(os.path.join('worldbank.csv'))\n",
    "try:\n",
    "    CountryRevenueInfo = consumer_electronics()\n",
    "except:\n",
    "    print(\"Oops!\",sys.exc_info()[0],\"occured, using Consumer_Electronics_Sales.csv instead\")\n",
    "    CountryRevenueInfo = pd.read_csv(os.path.join('Consumer_Electronics_Sales.csv'))\n",
    "try:\n",
    "    worldpop_df = worldpop()\n",
    "except:\n",
    "    print(\"Oops!\",sys.exc_info()[0],\"occured, using worldpop.csv instead\")\n",
    "    worldpop_df = pd.read_csv(os.path.join('worldbank.csv'))\n",
    "    \n",
    "worldhappiness_df = pd.read_csv(os.path.join('worldhappiness_prepped.csv'))"
   ]
  },
  {
   "cell_type": "code",
   "execution_count": 3,
   "metadata": {},
   "outputs": [],
   "source": [
    "#join all data sources on Country Code, include all values regardless of match\n",
    "worldpop_df = worldpop()\n",
    "world_df = pd.merge(worldbank_df,worldhappiness_df, on='Country Code', how='outer')\n",
    "world_df = pd.merge(world_df,CountryRevenueInfo, on=['Country Code','Year'], how='outer')\n",
    "world_df = pd.merge(world_df,worldpop_df, on=['Country Code','Year'], how='inner')"
   ]
  },
  {
   "cell_type": "code",
   "execution_count": 4,
   "metadata": {},
   "outputs": [],
   "source": [
    "# Just checking our work, nothing to see here....\n",
    "\n",
    "# len(world_df.groupby(\"Country\"))\n",
    "# len(worldhappiness_df.groupby('Country name'))\n",
    "# world_df.columns\n",
    "# world_df[world_df['Country'].str.contains(\"Hong\")]\n",
    "# world_df"
   ]
  },
  {
   "cell_type": "code",
   "execution_count": 5,
   "metadata": {},
   "outputs": [],
   "source": [
    "world_df.to_csv(os.path.join(\"..\",\"cleanData\",'almost_complete.csv'),index=False)"
   ]
  },
  {
   "cell_type": "code",
   "execution_count": null,
   "metadata": {},
   "outputs": [],
   "source": []
  },
  {
   "cell_type": "code",
   "execution_count": null,
   "metadata": {},
   "outputs": [],
   "source": []
  }
 ],
 "metadata": {
  "kernelspec": {
   "display_name": "Python 3",
   "language": "python",
   "name": "python3"
  },
  "language_info": {
   "codemirror_mode": {
    "name": "ipython",
    "version": 3
   },
   "file_extension": ".py",
   "mimetype": "text/x-python",
   "name": "python",
   "nbconvert_exporter": "python",
   "pygments_lexer": "ipython3",
   "version": "3.7.3"
  }
 },
 "nbformat": 4,
 "nbformat_minor": 4
}
