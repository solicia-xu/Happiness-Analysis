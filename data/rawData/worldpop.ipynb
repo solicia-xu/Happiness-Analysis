{
 "cells": [
  {
   "cell_type": "markdown",
   "metadata": {},
   "source": [
    "#### This is a working file that has been translated to a function within api_call.py and is not necessary to run. Run merge_df.ipynb only to achieve success!"
   ]
  },
  {
   "cell_type": "code",
   "execution_count": 4,
   "metadata": {},
   "outputs": [],
   "source": [
    "import pandas as pd\n",
    "import requests\n",
    "import os\n",
    "\n",
    "# variables\n",
    "url = \"https://api.worldbank.org/v2/country/all/indicator/SP.POP.TOTL?format=json&per_page=20000\"\n"
   ]
  },
  {
   "cell_type": "code",
   "execution_count": 5,
   "metadata": {},
   "outputs": [],
   "source": [
    "country_list = []\n",
    "iso2code = []\n",
    "pop_list = []\n",
    "year = []\n",
    "\n",
    "response = requests.get(url).json()[1]\n",
    "\n",
    "for x in range(len(response)):\n",
    "    iso2code.append(response[x]['country']['id'])\n",
    "    country_list.append(response[x]['country']['value'])\n",
    "    year.append(response[x]['date'])\n",
    "    pop_list.append(response[x]['value'])"
   ]
  },
  {
   "cell_type": "code",
   "execution_count": 10,
   "metadata": {},
   "outputs": [],
   "source": [
    "#create dataframe from all derived worldbank info\n",
    "worldpop_df = pd.DataFrame({\"Country\": country_list,\"Country Code\": iso2code,\"Population\": pop_list, \"Year\":year})\n",
    "worldpop_df = worldpop_df[worldpop_df.Population > 0]\n",
    "worldpop_df['Year']= worldpop_df['Year'].astype(float)\n",
    "worldpop_df.to_csv(os.path.join('worldpop.csv'),index=False)"
   ]
  },
  {
   "cell_type": "code",
   "execution_count": null,
   "metadata": {},
   "outputs": [],
   "source": []
  }
 ],
 "metadata": {
  "kernelspec": {
   "display_name": "Python 3",
   "language": "python",
   "name": "python3"
  },
  "language_info": {
   "codemirror_mode": {
    "name": "ipython",
    "version": 3
   },
   "file_extension": ".py",
   "mimetype": "text/x-python",
   "name": "python",
   "nbconvert_exporter": "python",
   "pygments_lexer": "ipython3",
   "version": "3.7.3"
  }
 },
 "nbformat": 4,
 "nbformat_minor": 4
}
